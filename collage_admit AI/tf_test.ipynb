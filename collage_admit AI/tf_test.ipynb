{
 "cells": [
  {
   "cell_type": "code",
   "execution_count": 19,
   "metadata": {},
   "outputs": [],
   "source": [
    "import tensorflow as tf\n",
    "import pandas as pd\n",
    "import numpy as np\n",
    "import matplotlib.pyplot as plt\n",
    "from keras import layers, models\n",
    "from tensorflow.keras.utils import plot_model "
   ]
  },
  {
   "cell_type": "code",
   "execution_count": 5,
   "metadata": {},
   "outputs": [],
   "source": [
    "data = pd.read_csv('gpascore.csv')\n",
    "\n",
    "#preprocessing\n",
    "data = data.dropna() # dropna() : 결측치가 있는 행을 제거\n",
    "\n",
    "# data.fillna(100) # fillna() : 결측치를 100으로 채움\n",
    "# data['gpa'] # gpa 열을 가져옴\n",
    "# data['gpa'].min() # gpa 열의 최소값\n",
    "# data['gpa'].count() # gpa 열의 개수\n"
   ]
  },
  {
   "cell_type": "code",
   "execution_count": 6,
   "metadata": {},
   "outputs": [],
   "source": [
    "# y 입력값 만들기 (Label) ## y = [정답1, 정답2, 정답3 ...]\n",
    "y_data = data['admit'].values # admit 열을 가져옴\n",
    "# x 입력값 만들기 (Feature) ## x = [입력값1, 입력값2, 입력값3 ...]\n",
    "x_data = []\n",
    "\n",
    "for i, rows in data.iterrows(): # iterrows() : 모든 행을 순회하면서 행의 인덱스와 행의 데이터를 가져옴\n",
    "   x_data.append([ rows['gre'], rows['gpa'], rows['rank'] ]) # x_data = [ [gre1, gpa1, rank1], [gre2, gpa2, rank2], [gre3, gpa3, rank3] ... ]\n"
   ]
  },
  {
   "cell_type": "code",
   "execution_count": 9,
   "metadata": {},
   "outputs": [
    {
     "name": "stdout",
     "output_type": "stream",
     "text": [
      "Epoch 1/100\n",
      "14/14 [==============================] - 1s 1ms/step - loss: 2.5334 - accuracy: 0.4871\n",
      "Epoch 2/100\n",
      "14/14 [==============================] - 0s 1ms/step - loss: 1.6382 - accuracy: 0.4659\n",
      "Epoch 3/100\n",
      "14/14 [==============================] - 0s 1ms/step - loss: 0.9087 - accuracy: 0.4988\n",
      "Epoch 4/100\n",
      "14/14 [==============================] - 0s 1ms/step - loss: 0.6894 - accuracy: 0.5553\n",
      "Epoch 5/100\n",
      "14/14 [==============================] - 0s 1ms/step - loss: 0.7509 - accuracy: 0.5435\n",
      "Epoch 6/100\n",
      "14/14 [==============================] - 0s 1ms/step - loss: 0.7895 - accuracy: 0.5271\n",
      "Epoch 7/100\n",
      "14/14 [==============================] - 0s 1ms/step - loss: 0.7925 - accuracy: 0.5200\n",
      "Epoch 8/100\n",
      "14/14 [==============================] - 0s 1ms/step - loss: 0.7867 - accuracy: 0.5247\n",
      "Epoch 9/100\n",
      "14/14 [==============================] - 0s 1ms/step - loss: 0.7001 - accuracy: 0.5694\n",
      "Epoch 10/100\n",
      "14/14 [==============================] - 0s 1ms/step - loss: 0.7102 - accuracy: 0.5529\n",
      "Epoch 11/100\n",
      "14/14 [==============================] - 0s 1ms/step - loss: 1.0613 - accuracy: 0.5247\n",
      "Epoch 12/100\n",
      "14/14 [==============================] - 0s 1ms/step - loss: 0.8993 - accuracy: 0.5671\n",
      "Epoch 13/100\n",
      "14/14 [==============================] - 0s 1ms/step - loss: 1.0192 - accuracy: 0.5200\n",
      "Epoch 14/100\n",
      "14/14 [==============================] - 0s 1ms/step - loss: 0.7529 - accuracy: 0.5129\n",
      "Epoch 15/100\n",
      "14/14 [==============================] - 0s 1ms/step - loss: 0.8628 - accuracy: 0.5224\n",
      "Epoch 16/100\n",
      "14/14 [==============================] - 0s 1ms/step - loss: 0.7938 - accuracy: 0.5224\n",
      "Epoch 17/100\n",
      "14/14 [==============================] - 0s 1ms/step - loss: 0.7835 - accuracy: 0.5294\n",
      "Epoch 18/100\n",
      "14/14 [==============================] - 0s 1ms/step - loss: 0.7495 - accuracy: 0.5741\n",
      "Epoch 19/100\n",
      "14/14 [==============================] - 0s 1ms/step - loss: 0.8274 - accuracy: 0.5059\n",
      "Epoch 20/100\n",
      "14/14 [==============================] - 0s 1ms/step - loss: 0.8344 - accuracy: 0.5318\n",
      "Epoch 21/100\n",
      "14/14 [==============================] - 0s 1ms/step - loss: 0.9801 - accuracy: 0.5059\n",
      "Epoch 22/100\n",
      "14/14 [==============================] - 0s 1ms/step - loss: 1.3281 - accuracy: 0.5153\n",
      "Epoch 23/100\n",
      "14/14 [==============================] - 0s 1ms/step - loss: 1.9721 - accuracy: 0.4941\n",
      "Epoch 24/100\n",
      "14/14 [==============================] - 0s 1ms/step - loss: 1.1713 - accuracy: 0.5576\n",
      "Epoch 25/100\n",
      "14/14 [==============================] - 0s 1ms/step - loss: 0.8774 - accuracy: 0.5882\n",
      "Epoch 26/100\n",
      "14/14 [==============================] - 0s 1ms/step - loss: 0.7301 - accuracy: 0.6000\n",
      "Epoch 27/100\n",
      "14/14 [==============================] - 0s 1ms/step - loss: 0.7343 - accuracy: 0.5624\n",
      "Epoch 28/100\n",
      "14/14 [==============================] - 0s 1ms/step - loss: 0.7800 - accuracy: 0.5106\n",
      "Epoch 29/100\n",
      "14/14 [==============================] - 0s 1ms/step - loss: 0.7771 - accuracy: 0.5482\n",
      "Epoch 30/100\n",
      "14/14 [==============================] - 0s 1ms/step - loss: 0.7770 - accuracy: 0.5835\n",
      "Epoch 31/100\n",
      "14/14 [==============================] - 0s 1ms/step - loss: 1.0065 - accuracy: 0.5482\n",
      "Epoch 32/100\n",
      "14/14 [==============================] - 0s 1ms/step - loss: 1.2662 - accuracy: 0.5012\n",
      "Epoch 33/100\n",
      "14/14 [==============================] - 0s 1ms/step - loss: 0.9037 - accuracy: 0.5200\n",
      "Epoch 34/100\n",
      "14/14 [==============================] - 0s 1ms/step - loss: 0.6945 - accuracy: 0.5812\n",
      "Epoch 35/100\n",
      "14/14 [==============================] - 0s 1ms/step - loss: 0.8707 - accuracy: 0.5600\n",
      "Epoch 36/100\n",
      "14/14 [==============================] - 0s 1ms/step - loss: 0.8720 - accuracy: 0.4918\n",
      "Epoch 37/100\n",
      "14/14 [==============================] - 0s 1ms/step - loss: 0.7026 - accuracy: 0.5671\n",
      "Epoch 38/100\n",
      "14/14 [==============================] - 0s 1ms/step - loss: 1.1150 - accuracy: 0.5129\n",
      "Epoch 39/100\n",
      "14/14 [==============================] - 0s 1ms/step - loss: 1.2157 - accuracy: 0.4918\n",
      "Epoch 40/100\n",
      "14/14 [==============================] - 0s 1ms/step - loss: 0.8742 - accuracy: 0.5035\n",
      "Epoch 41/100\n",
      "14/14 [==============================] - 0s 1ms/step - loss: 0.7235 - accuracy: 0.5365\n",
      "Epoch 42/100\n",
      "14/14 [==============================] - 0s 1ms/step - loss: 0.7593 - accuracy: 0.5553\n",
      "Epoch 43/100\n",
      "14/14 [==============================] - 0s 2ms/step - loss: 1.0834 - accuracy: 0.5176\n",
      "Epoch 44/100\n",
      "14/14 [==============================] - 0s 1ms/step - loss: 0.8982 - accuracy: 0.5200\n",
      "Epoch 45/100\n",
      "14/14 [==============================] - 0s 2ms/step - loss: 0.7040 - accuracy: 0.6000\n",
      "Epoch 46/100\n",
      "14/14 [==============================] - 0s 1ms/step - loss: 0.7217 - accuracy: 0.6094\n",
      "Epoch 47/100\n",
      "14/14 [==============================] - 0s 1ms/step - loss: 0.7911 - accuracy: 0.5647\n",
      "Epoch 48/100\n",
      "14/14 [==============================] - 0s 1ms/step - loss: 1.0343 - accuracy: 0.5035\n",
      "Epoch 49/100\n",
      "14/14 [==============================] - 0s 1ms/step - loss: 0.7284 - accuracy: 0.5718\n",
      "Epoch 50/100\n",
      "14/14 [==============================] - 0s 1ms/step - loss: 0.6710 - accuracy: 0.5882\n",
      "Epoch 51/100\n",
      "14/14 [==============================] - 0s 1ms/step - loss: 0.7586 - accuracy: 0.5647\n",
      "Epoch 52/100\n",
      "14/14 [==============================] - 0s 1ms/step - loss: 0.8712 - accuracy: 0.5341\n",
      "Epoch 53/100\n",
      "14/14 [==============================] - 0s 1ms/step - loss: 0.7006 - accuracy: 0.5718\n",
      "Epoch 54/100\n",
      "14/14 [==============================] - 0s 1ms/step - loss: 0.8911 - accuracy: 0.5412\n",
      "Epoch 55/100\n",
      "14/14 [==============================] - 0s 1ms/step - loss: 0.7143 - accuracy: 0.6000\n",
      "Epoch 56/100\n",
      "14/14 [==============================] - 0s 1ms/step - loss: 0.7740 - accuracy: 0.5647\n",
      "Epoch 57/100\n",
      "14/14 [==============================] - 0s 1ms/step - loss: 0.6613 - accuracy: 0.5882\n",
      "Epoch 58/100\n",
      "14/14 [==============================] - 0s 1ms/step - loss: 0.6484 - accuracy: 0.6047\n",
      "Epoch 59/100\n",
      "14/14 [==============================] - 0s 1ms/step - loss: 0.7186 - accuracy: 0.5459\n",
      "Epoch 60/100\n",
      "14/14 [==============================] - 0s 1ms/step - loss: 1.1323 - accuracy: 0.5482\n",
      "Epoch 61/100\n",
      "14/14 [==============================] - 0s 1ms/step - loss: 1.1126 - accuracy: 0.4894\n",
      "Epoch 62/100\n",
      "14/14 [==============================] - 0s 1ms/step - loss: 0.7184 - accuracy: 0.5694\n",
      "Epoch 63/100\n",
      "14/14 [==============================] - 0s 1ms/step - loss: 0.7372 - accuracy: 0.5765\n",
      "Epoch 64/100\n",
      "14/14 [==============================] - 0s 1ms/step - loss: 0.7825 - accuracy: 0.5247\n",
      "Epoch 65/100\n",
      "14/14 [==============================] - 0s 1ms/step - loss: 0.6871 - accuracy: 0.5718\n",
      "Epoch 66/100\n",
      "14/14 [==============================] - 0s 1ms/step - loss: 0.6995 - accuracy: 0.5647\n",
      "Epoch 67/100\n",
      "14/14 [==============================] - 0s 1ms/step - loss: 0.6956 - accuracy: 0.5882\n",
      "Epoch 68/100\n",
      "14/14 [==============================] - 0s 1ms/step - loss: 0.6793 - accuracy: 0.6047\n",
      "Epoch 69/100\n",
      "14/14 [==============================] - 0s 1ms/step - loss: 0.7740 - accuracy: 0.5671\n",
      "Epoch 70/100\n",
      "14/14 [==============================] - 0s 1ms/step - loss: 0.8026 - accuracy: 0.5153\n",
      "Epoch 71/100\n",
      "14/14 [==============================] - 0s 1ms/step - loss: 0.9436 - accuracy: 0.5129\n",
      "Epoch 72/100\n",
      "14/14 [==============================] - 0s 1ms/step - loss: 1.2641 - accuracy: 0.5388\n",
      "Epoch 73/100\n",
      "14/14 [==============================] - 0s 1ms/step - loss: 0.6973 - accuracy: 0.5741\n",
      "Epoch 74/100\n",
      "14/14 [==============================] - 0s 1ms/step - loss: 0.7003 - accuracy: 0.5600\n",
      "Epoch 75/100\n",
      "14/14 [==============================] - 0s 1ms/step - loss: 1.1654 - accuracy: 0.5294\n",
      "Epoch 76/100\n",
      "14/14 [==============================] - 0s 1ms/step - loss: 0.8586 - accuracy: 0.5318\n",
      "Epoch 77/100\n",
      "14/14 [==============================] - 0s 1ms/step - loss: 0.6662 - accuracy: 0.6212\n",
      "Epoch 78/100\n",
      "14/14 [==============================] - 0s 1ms/step - loss: 0.6646 - accuracy: 0.6118\n",
      "Epoch 79/100\n",
      "14/14 [==============================] - 0s 1ms/step - loss: 0.7723 - accuracy: 0.5718\n",
      "Epoch 80/100\n",
      "14/14 [==============================] - 0s 2ms/step - loss: 0.7804 - accuracy: 0.5647\n",
      "Epoch 81/100\n",
      "14/14 [==============================] - 0s 1ms/step - loss: 0.7187 - accuracy: 0.5671\n",
      "Epoch 82/100\n",
      "14/14 [==============================] - 0s 1ms/step - loss: 0.6526 - accuracy: 0.6047\n",
      "Epoch 83/100\n",
      "14/14 [==============================] - 0s 1ms/step - loss: 0.6939 - accuracy: 0.5812\n",
      "Epoch 84/100\n",
      "14/14 [==============================] - 0s 1ms/step - loss: 0.7135 - accuracy: 0.5835\n",
      "Epoch 85/100\n",
      "14/14 [==============================] - 0s 1ms/step - loss: 0.6196 - accuracy: 0.6541\n",
      "Epoch 86/100\n",
      "14/14 [==============================] - 0s 1ms/step - loss: 0.6829 - accuracy: 0.5929\n",
      "Epoch 87/100\n",
      "14/14 [==============================] - 0s 1ms/step - loss: 0.7966 - accuracy: 0.5482\n",
      "Epoch 88/100\n",
      "14/14 [==============================] - 0s 1ms/step - loss: 0.6798 - accuracy: 0.5812\n",
      "Epoch 89/100\n",
      "14/14 [==============================] - 0s 1ms/step - loss: 1.0037 - accuracy: 0.5129\n",
      "Epoch 90/100\n",
      "14/14 [==============================] - 0s 1ms/step - loss: 0.9659 - accuracy: 0.5506\n",
      "Epoch 91/100\n",
      "14/14 [==============================] - 0s 1ms/step - loss: 0.6478 - accuracy: 0.6165\n",
      "Epoch 92/100\n",
      "14/14 [==============================] - 0s 1ms/step - loss: 0.6753 - accuracy: 0.6071\n",
      "Epoch 93/100\n",
      "14/14 [==============================] - 0s 1ms/step - loss: 0.6402 - accuracy: 0.6447\n",
      "Epoch 94/100\n",
      "14/14 [==============================] - 0s 1ms/step - loss: 0.6718 - accuracy: 0.5953\n",
      "Epoch 95/100\n",
      "14/14 [==============================] - 0s 1ms/step - loss: 0.8256 - accuracy: 0.5600\n",
      "Epoch 96/100\n",
      "14/14 [==============================] - 0s 1ms/step - loss: 1.3857 - accuracy: 0.5200\n",
      "Epoch 97/100\n",
      "14/14 [==============================] - 0s 1ms/step - loss: 0.9270 - accuracy: 0.5906\n",
      "Epoch 98/100\n",
      "14/14 [==============================] - 0s 1ms/step - loss: 0.7375 - accuracy: 0.5859\n",
      "Epoch 99/100\n",
      "14/14 [==============================] - 0s 1ms/step - loss: 0.6701 - accuracy: 0.6282\n",
      "Epoch 100/100\n",
      "14/14 [==============================] - 0s 1ms/step - loss: 0.6841 - accuracy: 0.5765\n"
     ]
    }
   ],
   "source": [
    "\n",
    "# 모델 만들기\n",
    "model = tf.keras.models.Sequential([\n",
    "   tf.keras.layers.Dense(64, activation='relu'),                                \n",
    "   tf.keras.layers.Dense(64, activation='relu'),\n",
    "   tf.keras.layers.Dense(1, activation='sigmoid'), # 0 ~ 1 사이의 값은 sigmoid 함수를 사용\n",
    "])\n",
    "\n",
    "# 모델을 학습시킬 최적화 방법\n",
    "model.compile(optimizer='adam', loss='binary_crossentropy', metrics=['accuracy'])\n",
    "\n",
    "# 모델 학습\n",
    "history = model.fit(np.array(x_data), np.array(y_data), epochs=100)\n",
    "# X 데이터 예시 [ [380,3.21,3], [660,3.67,3], [], [], .... ]\n",
    "# Y 데이터 예시 [ [0], [1], [0], [1], .... ]\n"
   ]
  },
  {
   "cell_type": "code",
   "execution_count": 10,
   "metadata": {},
   "outputs": [
    {
     "name": "stdout",
     "output_type": "stream",
     "text": [
      "1/1 [==============================] - 0s 90ms/step\n",
      "[[0.62364966]\n",
      " [0.48234543]]\n"
     ]
    }
   ],
   "source": [
    "\n",
    "# 모델 저장\n",
    "model.save('my_model.h5')\n",
    "\n",
    "\n",
    "# 예측\n",
    "예측값 = model.predict([ [750, 3.70, 3], [400, 2.2, 1] ])\n",
    "print(예측값)"
   ]
  },
  {
   "cell_type": "code",
   "execution_count": 17,
   "metadata": {},
   "outputs": [
    {
     "data": {
      "text/plain": [
       "<function matplotlib.pyplot.show(close=None, block=None)>"
      ]
     },
     "execution_count": 17,
     "metadata": {},
     "output_type": "execute_result"
    },
    {
     "data": {
      "image/png": "[encoded data removed]",
      "text/plain": [
       "<Figure size 640x480 with 1 Axes>"
      ]
     },
     "metadata": {},
     "output_type": "display_data"
    }
   ],
   "source": [
    "\n",
    "# 훈련과정 시각화 (정확도)\n",
    "plt.plot(history.history['accuracy'])\n",
    "plt.plot(history.history['loss'])\n",
    "plt.title('model accuracy')\n",
    "plt.xlabel('epoch')\n",
    "plt.ylabel('accuracy')\n",
    "plt.legend(['accuracy', 'loss'], loc='upper left')\n",
    "plt.show"
   ]
  },
  {
   "cell_type": "code",
   "execution_count": 25,
   "metadata": {},
   "outputs": [
    {
     "name": "stdout",
     "output_type": "stream",
     "text": [
      "You must install pydot (`pip install pydot`) and install graphviz (see instructions at https://graphviz.gitlab.io/download/) for plot_model to work.\n",
      "You must install pydot (`pip install pydot`) and install graphviz (see instructions at https://graphviz.gitlab.io/download/) for plot_model to work.\n"
     ]
    }
   ],
   "source": [
    "plot_model(model, to_file='model.png')\n",
    "plot_model(model, to_file='model_shape.png', show_shapes=True)"
   ]
  },
  {
   "cell_type": "code",
   "execution_count": null,
   "metadata": {},
   "outputs": [],
   "source": []
  }
 ],
 "metadata": {
  "kernelspec": {
   "display_name": "tensorflow_env",
   "language": "python",
   "name": "python3"
  },
  "language_info": {
   "codemirror_mode": {
    "name": "ipython",
    "version": 3
   },
   "file_extension": ".py",
   "mimetype": "text/x-python",
   "name": "python",
   "nbconvert_exporter": "python",
   "pygments_lexer": "ipython3",
   "version": "3.10.4"
  },
  "orig_nbformat": 4,
  "vscode": {
   "interpreter": {
    "hash": "ed2bd8afe35ac8e04e3273705dfa5202dc0c9a433ef2582b988ed304bea5c5f7"
   }
  }
 },
 "nbformat": 4,
 "nbformat_minor": 2
}
