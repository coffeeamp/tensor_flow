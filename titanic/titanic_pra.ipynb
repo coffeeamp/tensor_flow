{
 "cells": [
  {
   "cell_type": "code",
   "execution_count": 6,
   "metadata": {},
   "outputs": [],
   "source": [
    "import tensorflow as tf\n",
    "tf.compat.v1.logging.set_verbosity(tf.compat.v1.logging.ERROR)\n",
    "import numpy as np\n",
    "import pandas as pd"
   ]
  },
  {
   "cell_type": "code",
   "execution_count": 7,
   "metadata": {},
   "outputs": [
    {
     "name": "stdout",
     "output_type": "stream",
     "text": [
      "PassengerId      0\n",
      "Survived         0\n",
      "Pclass           0\n",
      "Name             0\n",
      "Sex              0\n",
      "Age            177\n",
      "SibSp            0\n",
      "Parch            0\n",
      "Ticket           0\n",
      "Fare             0\n",
      "Embarked         2\n",
      "dtype: int64\n"
     ]
    }
   ],
   "source": [
    "data = pd.read_csv('train.csv')\n",
    "print(data.isnull().sum())"
   ]
  },
  {
   "cell_type": "code",
   "execution_count": 8,
   "metadata": {},
   "outputs": [
    {
     "name": "stdout",
     "output_type": "stream",
     "text": [
      "29.69911764705882\n",
      "0    S\n",
      "Name: Embarked, dtype: object\n",
      "PassengerId    0\n",
      "Survived       0\n",
      "Pclass         0\n",
      "Name           0\n",
      "Sex            0\n",
      "Age            0\n",
      "SibSp          0\n",
      "Parch          0\n",
      "Ticket         0\n",
      "Fare           0\n",
      "Embarked       0\n",
      "dtype: int64\n"
     ]
    }
   ],
   "source": [
    "# 결측치 처리\n",
    "age_mean = data['Age'].mean()\n",
    "print(age_mean)\n",
    "\n",
    "mode = data['Embarked'].mode()\n",
    "print(mode)\n",
    "\n",
    "data['Age'].fillna(value=30 , inplace=True)\n",
    "data['Embarked'].fillna(value='S' , inplace=True)\n",
    "\n",
    "print(data.isnull().sum())"
   ]
  },
  {
   "cell_type": "code",
   "execution_count": 9,
   "metadata": {},
   "outputs": [
    {
     "data": {
      "text/plain": [
       "Index(['PassengerId', 'Survived', 'Pclass', 'Name', 'Sex', 'Age', 'SibSp',\n",
       "       'Parch', 'Ticket', 'Fare', 'Embarked'],\n",
       "      dtype='object')"
      ]
     },
     "execution_count": 9,
     "metadata": {},
     "output_type": "execute_result"
    }
   ],
   "source": [
    "data.columns"
   ]
  },
  {
   "cell_type": "code",
   "execution_count": 10,
   "metadata": {},
   "outputs": [
    {
     "name": "stdout",
     "output_type": "stream",
     "text": [
      "<TensorSliceDataset element_spec=({'PassengerId': TensorSpec(shape=(), dtype=tf.int64, name=None), 'Pclass': TensorSpec(shape=(), dtype=tf.int64, name=None), 'Name': TensorSpec(shape=(), dtype=tf.string, name=None), 'Sex': TensorSpec(shape=(), dtype=tf.string, name=None), 'Age': TensorSpec(shape=(), dtype=tf.float64, name=None), 'SibSp': TensorSpec(shape=(), dtype=tf.int64, name=None), 'Parch': TensorSpec(shape=(), dtype=tf.int64, name=None), 'Ticket': TensorSpec(shape=(), dtype=tf.string, name=None), 'Fare': TensorSpec(shape=(), dtype=tf.float64, name=None), 'Embarked': TensorSpec(shape=(), dtype=tf.string, name=None)}, TensorSpec(shape=(), dtype=tf.int64, name=None))>\n"
     ]
    }
   ],
   "source": [
    "\n",
    "anwsers = data.pop('Survived') # 정답 데이터를 떼어냄\n",
    "\n",
    "data_set = tf.data.Dataset.from_tensor_slices((dict(data), anwsers))\n",
    "print(data_set)"
   ]
  },
  {
   "cell_type": "code",
   "execution_count": 11,
   "metadata": {},
   "outputs": [
    {
     "name": "stdout",
     "output_type": "stream",
     "text": [
      "NumericColumn(key='Age', shape=(1,), default_value=None, dtype=tf.float32, normalizer_fn=None)\n",
      "[NumericColumn(key='Age', shape=(1,), default_value=None, dtype=tf.float32, normalizer_fn=None), NumericColumn(key='Sibsp', shape=(1,), default_value=None, dtype=tf.float32, normalizer_fn=None), NumericColumn(key='Parch', shape=(1,), default_value=None, dtype=tf.float32, normalizer_fn=None), NumericColumn(key='Fare', shape=(1,), default_value=None, dtype=tf.float32, normalizer_fn=None), BucketizedColumn(source_column=NumericColumn(key='Age', shape=(1,), default_value=None, dtype=tf.float32, normalizer_fn=None), boundaries=(10, 20, 30, 40, 50, 60, 70, 80))]\n"
     ]
    }
   ],
   "source": [
    "# 각 컬럼을 전처리할때 어떻게 할 것인가?\n",
    "feature_columns = [] # 특성 열을 저장할 리스트\n",
    "\n",
    "# PassengerId Survived Pclass Name Sex Age SibSp Parch Ticket Fare Embarked\n",
    "\n",
    "# 숫자그대로 집어넣 Fare, Parch, SibSp : numeric_column\n",
    "# 범주화 하여 넣 Age (10대, 20대, 30대) : bucketized_column\n",
    "# 종류 몇개없는 카테고리 Sex, Embarkedm, Pclass : indicator_column\n",
    "# 종류가 너무 많은 카테고리 Ticket : embedding_column\n",
    "\n",
    "# 숫자그대로 집어넣 Fare, Parch, SibSp : numeric_column\n",
    "feature_columns.append(tf.feature_column.numeric_column('Age'))\n",
    "feature_columns.append(tf.feature_column.numeric_column('Sibsp'))\n",
    "feature_columns.append(tf.feature_column.numeric_column('Parch'))\n",
    "feature_columns.append(tf.feature_column.numeric_column('Fare'))\n",
    "\n",
    "\n",
    "# 범주화 하여 넣 Age (10대, 20대, 30대) : bucketized_column\n",
    "Age = tf.feature_column.numeric_column('Age') \n",
    "Age_butket = tf.feature_column.bucketized_column(Age, boundaries=[10,20,30,40,50,60,70,80])\n",
    "\n",
    "feature_columns.append(Age_butket)\n",
    "\n",
    "print(Age)\n",
    "print(feature_columns)\n",
    "\n"
   ]
  },
  {
   "cell_type": "code",
   "execution_count": 12,
   "metadata": {},
   "outputs": [
    {
     "name": "stdout",
     "output_type": "stream",
     "text": [
      "[NumericColumn(key='Age', shape=(1,), default_value=None, dtype=tf.float32, normalizer_fn=None), NumericColumn(key='Sibsp', shape=(1,), default_value=None, dtype=tf.float32, normalizer_fn=None), NumericColumn(key='Parch', shape=(1,), default_value=None, dtype=tf.float32, normalizer_fn=None), NumericColumn(key='Fare', shape=(1,), default_value=None, dtype=tf.float32, normalizer_fn=None), BucketizedColumn(source_column=NumericColumn(key='Age', shape=(1,), default_value=None, dtype=tf.float32, normalizer_fn=None), boundaries=(10, 20, 30, 40, 50, 60, 70, 80))]\n"
     ]
    }
   ],
   "source": [
    "print(feature_columns)"
   ]
  },
  {
   "cell_type": "code",
   "execution_count": 13,
   "metadata": {},
   "outputs": [],
   "source": [
    "# 종류 몇개없는 카테고리 Sex, Embarkedm, Pclass : indicator_column\n",
    "word = data['Sex'].unique()\n",
    "categori = tf.feature_column.categorical_column_with_vocabulary_list('Sex', word)\n",
    "one_hot = tf.feature_column.indicator_column(categori)\n",
    "feature_columns.append(one_hot)\n",
    "\n",
    "word = data['Embarked'].unique()\n",
    "categori = tf.feature_column.categorical_column_with_vocabulary_list('Embarked', word)\n",
    "one_hot = tf.feature_column.indicator_column(categori)\n",
    "feature_columns.append(one_hot)\n",
    "\n",
    "word = data['Pclass'].unique()\n",
    "categori = tf.feature_column.categorical_column_with_vocabulary_list('Pclass', word)\n",
    "one_hot = tf.feature_column.indicator_column(categori)\n",
    "feature_columns.append(one_hot)\n",
    "\n",
    "# 종류가 너무 많은 카테고리 Ticket : embedding_column\n",
    "word = data['Ticket'].unique()\n",
    "categori = tf.feature_column.categorical_column_with_vocabulary_list('Ticket', word)\n",
    "one_hot = tf.feature_column.embedding_column(categori, dimension=10)\n",
    "feature_columns.append(one_hot)\n"
   ]
  },
  {
   "cell_type": "code",
   "execution_count": 14,
   "metadata": {},
   "outputs": [
    {
     "name": "stdout",
     "output_type": "stream",
     "text": [
      "Epoch 1/100\n"
     ]
    },
    {
     "ename": "ValueError",
     "evalue": "in user code:\n\n    File \"e:\\anaconda\\envs\\tensorflow_env\\lib\\site-packages\\keras\\engine\\training.py\", line 1249, in train_function  *\n        return step_function(self, iterator)\n    File \"e:\\anaconda\\envs\\tensorflow_env\\lib\\site-packages\\keras\\engine\\training.py\", line 1233, in step_function  **\n        outputs = model.distribute_strategy.run(run_step, args=(data,))\n    File \"e:\\anaconda\\envs\\tensorflow_env\\lib\\site-packages\\keras\\engine\\training.py\", line 1222, in run_step  **\n        outputs = model.train_step(data)\n    File \"e:\\anaconda\\envs\\tensorflow_env\\lib\\site-packages\\keras\\engine\\training.py\", line 1023, in train_step\n        y_pred = self(x, training=True)\n    File \"e:\\anaconda\\envs\\tensorflow_env\\lib\\site-packages\\keras\\utils\\traceback_utils.py\", line 70, in error_handler\n        raise e.with_traceback(filtered_tb) from None\n\n    ValueError: Exception encountered when calling layer 'dense_features' (type DenseFeatures).\n    \n    Feature Sibsp is not in features dictionary.\n    \n    Call arguments received by layer 'dense_features' (type DenseFeatures):\n      • features={'PassengerId': 'tf.Tensor(shape=(None,), dtype=int64)', 'Pclass': 'tf.Tensor(shape=(None,), dtype=int64)', 'Name': 'tf.Tensor(shape=(None,), dtype=string)', 'Sex': 'tf.Tensor(shape=(None,), dtype=string)', 'Age': 'tf.Tensor(shape=(None,), dtype=float32)', 'SibSp': 'tf.Tensor(shape=(None,), dtype=int64)', 'Parch': 'tf.Tensor(shape=(None,), dtype=int64)', 'Ticket': 'tf.Tensor(shape=(None,), dtype=string)', 'Fare': 'tf.Tensor(shape=(None,), dtype=float32)', 'Embarked': 'tf.Tensor(shape=(None,), dtype=string)'}\n      • cols_to_output_tensors=None\n      • training=True\n",
     "output_type": "error",
     "traceback": [
      "\u001b[1;31m---------------------------------------------------------------------------\u001b[0m",
      "\u001b[1;31mValueError\u001b[0m                                Traceback (most recent call last)",
      "Cell \u001b[1;32mIn [14], line 13\u001b[0m\n\u001b[0;32m      9\u001b[0m model\u001b[39m.\u001b[39mcompile(optimizer\u001b[39m=\u001b[39m\u001b[39m'\u001b[39m\u001b[39madam\u001b[39m\u001b[39m'\u001b[39m, loss\u001b[39m=\u001b[39m\u001b[39m'\u001b[39m\u001b[39mbinary_crossentropy\u001b[39m\u001b[39m'\u001b[39m, metrics\u001b[39m=\u001b[39m[\u001b[39m'\u001b[39m\u001b[39macc\u001b[39m\u001b[39m'\u001b[39m]) \u001b[39m# 이진분류\u001b[39;00m\n\u001b[0;32m     11\u001b[0m data_set_batch \u001b[39m=\u001b[39m data_set\u001b[39m.\u001b[39mbatch(\u001b[39m32\u001b[39m) \u001b[39m# 데이터를 섞고 32개씩 묶음\u001b[39;00m\n\u001b[1;32m---> 13\u001b[0m model\u001b[39m.\u001b[39;49mfit(data_set_batch, epochs\u001b[39m=\u001b[39;49m\u001b[39m100\u001b[39;49m)\n",
      "File \u001b[1;32me:\\anaconda\\envs\\tensorflow_env\\lib\\site-packages\\keras\\utils\\traceback_utils.py:70\u001b[0m, in \u001b[0;36mfilter_traceback.<locals>.error_handler\u001b[1;34m(*args, **kwargs)\u001b[0m\n\u001b[0;32m     67\u001b[0m     filtered_tb \u001b[39m=\u001b[39m _process_traceback_frames(e\u001b[39m.\u001b[39m__traceback__)\n\u001b[0;32m     68\u001b[0m     \u001b[39m# To get the full stack trace, call:\u001b[39;00m\n\u001b[0;32m     69\u001b[0m     \u001b[39m# `tf.debugging.disable_traceback_filtering()`\u001b[39;00m\n\u001b[1;32m---> 70\u001b[0m     \u001b[39mraise\u001b[39;00m e\u001b[39m.\u001b[39mwith_traceback(filtered_tb) \u001b[39mfrom\u001b[39;00m \u001b[39mNone\u001b[39m\n\u001b[0;32m     71\u001b[0m \u001b[39mfinally\u001b[39;00m:\n\u001b[0;32m     72\u001b[0m     \u001b[39mdel\u001b[39;00m filtered_tb\n",
      "File \u001b[1;32m~\\AppData\\Local\\Temp\\__autograph_generated_filetno75wys.py:15\u001b[0m, in \u001b[0;36mouter_factory.<locals>.inner_factory.<locals>.tf__train_function\u001b[1;34m(iterator)\u001b[0m\n\u001b[0;32m     13\u001b[0m \u001b[39mtry\u001b[39;00m:\n\u001b[0;32m     14\u001b[0m     do_return \u001b[39m=\u001b[39m \u001b[39mTrue\u001b[39;00m\n\u001b[1;32m---> 15\u001b[0m     retval_ \u001b[39m=\u001b[39m ag__\u001b[39m.\u001b[39mconverted_call(ag__\u001b[39m.\u001b[39mld(step_function), (ag__\u001b[39m.\u001b[39mld(\u001b[39mself\u001b[39m), ag__\u001b[39m.\u001b[39mld(iterator)), \u001b[39mNone\u001b[39;00m, fscope)\n\u001b[0;32m     16\u001b[0m \u001b[39mexcept\u001b[39;00m:\n\u001b[0;32m     17\u001b[0m     do_return \u001b[39m=\u001b[39m \u001b[39mFalse\u001b[39;00m\n",
      "\u001b[1;31mValueError\u001b[0m: in user code:\n\n    File \"e:\\anaconda\\envs\\tensorflow_env\\lib\\site-packages\\keras\\engine\\training.py\", line 1249, in train_function  *\n        return step_function(self, iterator)\n    File \"e:\\anaconda\\envs\\tensorflow_env\\lib\\site-packages\\keras\\engine\\training.py\", line 1233, in step_function  **\n        outputs = model.distribute_strategy.run(run_step, args=(data,))\n    File \"e:\\anaconda\\envs\\tensorflow_env\\lib\\site-packages\\keras\\engine\\training.py\", line 1222, in run_step  **\n        outputs = model.train_step(data)\n    File \"e:\\anaconda\\envs\\tensorflow_env\\lib\\site-packages\\keras\\engine\\training.py\", line 1023, in train_step\n        y_pred = self(x, training=True)\n    File \"e:\\anaconda\\envs\\tensorflow_env\\lib\\site-packages\\keras\\utils\\traceback_utils.py\", line 70, in error_handler\n        raise e.with_traceback(filtered_tb) from None\n\n    ValueError: Exception encountered when calling layer 'dense_features' (type DenseFeatures).\n    \n    Feature Sibsp is not in features dictionary.\n    \n    Call arguments received by layer 'dense_features' (type DenseFeatures):\n      • features={'PassengerId': 'tf.Tensor(shape=(None,), dtype=int64)', 'Pclass': 'tf.Tensor(shape=(None,), dtype=int64)', 'Name': 'tf.Tensor(shape=(None,), dtype=string)', 'Sex': 'tf.Tensor(shape=(None,), dtype=string)', 'Age': 'tf.Tensor(shape=(None,), dtype=float32)', 'SibSp': 'tf.Tensor(shape=(None,), dtype=int64)', 'Parch': 'tf.Tensor(shape=(None,), dtype=int64)', 'Ticket': 'tf.Tensor(shape=(None,), dtype=string)', 'Fare': 'tf.Tensor(shape=(None,), dtype=float32)', 'Embarked': 'tf.Tensor(shape=(None,), dtype=string)'}\n      • cols_to_output_tensors=None\n      • training=True\n"
     ]
    }
   ],
   "source": [
    "model = tf.keras.Sequential([\n",
    "   tf.keras.layers.DenseFeatures(feature_columns), # 특성 열을 입력으로 받음\n",
    "   tf.keras.layers.Dense(128, activation='relu'),\n",
    "   tf.keras.layers.Dense(64, activation='relu'),\n",
    "   tf.keras.layers.Dropout(0.2),\n",
    "   tf.keras.layers.Dense(1, activation='sigmoid'), # 0~1 사이의 값으로 출력 (살아남을 확률)\n",
    "])\n",
    "\n",
    "model.compile(optimizer='adam', loss='binary_crossentropy', metrics=['acc']) # 이진분류\n",
    "\n",
    "data_set_batch = data_set.batch(32) # 데이터를 섞고 32개씩 묶음\n",
    "\n",
    "model.fit(data_set_batch, epochs=100)"
   ]
  },
  {
   "cell_type": "code",
   "execution_count": null,
   "metadata": {},
   "outputs": [],
   "source": []
  }
 ],
 "metadata": {
  "kernelspec": {
   "display_name": "tensorflow_env",
   "language": "python",
   "name": "python3"
  },
  "language_info": {
   "codemirror_mode": {
    "name": "ipython",
    "version": 3
   },
   "file_extension": ".py",
   "mimetype": "text/x-python",
   "name": "python",
   "nbconvert_exporter": "python",
   "pygments_lexer": "ipython3",
   "version": "3.10.4"
  },
  "orig_nbformat": 4,
  "vscode": {
   "interpreter": {
    "hash": "ed2bd8afe35ac8e04e3273705dfa5202dc0c9a433ef2582b988ed304bea5c5f7"
   }
  }
 },
 "nbformat": 4,
 "nbformat_minor": 2
}
