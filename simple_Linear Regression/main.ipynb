{
 "cells": [
  {
   "cell_type": "code",
   "execution_count": 4,
   "metadata": {},
   "outputs": [
    {
     "name": "stdout",
     "output_type": "stream",
     "text": [
      "2.11.0\n",
      "[name: \"/device:CPU:0\"\n",
      "device_type: \"CPU\"\n",
      "memory_limit: 268435456\n",
      "locality {\n",
      "}\n",
      "incarnation: 3872594072720594018\n",
      "xla_global_id: -1\n",
      "]\n"
     ]
    }
   ],
   "source": [
    "import tensorflow as tf\n",
    "if tf.test.gpu_device_name():\n",
    "\n",
    "    print('Default GPU Device: {}'.format(tf.test.gpu_device_name()))\n",
    "\n",
    "print(tf.__version__)\n",
    "\n",
    "from tensorflow.python.client import device_lib\n",
    "print(device_lib.list_local_devices())"
   ]
  },
  {
   "cell_type": "code",
   "execution_count": 5,
   "metadata": {},
   "outputs": [
    {
     "data": {
      "text/plain": [
       "[LogicalDevice(name='/device:CPU:0', device_type='CPU')]"
      ]
     },
     "execution_count": 5,
     "metadata": {},
     "output_type": "execute_result"
    }
   ],
   "source": [
    "tf.config.list_logical_devices()"
   ]
  },
  {
   "attachments": {},
   "cell_type": "markdown",
   "metadata": {},
   "source": [
    "Tensorflow 2로 해보는 간단한 Linear Regression"
   ]
  },
  {
   "cell_type": "code",
   "execution_count": 30,
   "metadata": {},
   "outputs": [
    {
     "name": "stdout",
     "output_type": "stream",
     "text": [
      "0 51978.438 0.19999935 0.29999936\n",
      "1000 33.819134 1.515976 2.6436644\n",
      "2000 32.63278 1.5018435 5.068331\n",
      "3000 30.61259 1.477151 9.304743\n",
      "4000 27.48342 1.4371725 16.163767\n",
      "5000 23.005554 1.3755844 26.730305\n",
      "6000 17.240398 1.2861046 42.082134\n",
      "7000 10.920383 1.1668425 62.54364\n",
      "8000 5.8173466 1.0372016 84.790405\n",
      "9000 3.2803447 0.94364816 100.836365\n",
      "10000 2.1209362 0.8780233 111.91405\n",
      "11000 1.5365052 0.83499193 119.47845\n"
     ]
    }
   ],
   "source": [
    "height = [170, 180, 175, 160] # x\n",
    "shoesize = [260, 270, 265, 255] # y\n",
    "\n",
    "# shoesize = height * a + b\n",
    "\n",
    "a = tf.Variable(0.1)\n",
    "b = tf.Variable(0.2)\n",
    "\n",
    "def loss():\n",
    "   return tf.reduce_mean((shoesize - (height * a + b)) ** 2)\n",
    "\n",
    "opt = tf.keras.optimizers.Adam(learning_rate=0.1) # 경사하강법\n",
    "for i in range(12000):\n",
    "    opt.minimize(loss, var_list=[a, b]) # var_list : 최적화할 변수\n",
    "    if i % 1000 == 0:\n",
    "        print(i, loss().numpy(), a.numpy(), b.numpy())\n",
    "# print(a.numpy(), b.numpy())\n",
    "\n",
    "\n"
   ]
  },
  {
   "cell_type": "code",
   "execution_count": null,
   "metadata": {},
   "outputs": [],
   "source": []
  }
 ],
 "metadata": {
  "kernelspec": {
   "display_name": "Python 3.10.4 ('tensorflow_env')",
   "language": "python",
   "name": "python3"
  },
  "language_info": {
   "codemirror_mode": {
    "name": "ipython",
    "version": 3
   },
   "file_extension": ".py",
   "mimetype": "text/x-python",
   "name": "python",
   "nbconvert_exporter": "python",
   "pygments_lexer": "ipython3",
   "version": "3.10.4 | packaged by conda-forge | (main, Mar 30 2022, 08:38:02) [MSC v.1916 64 bit (AMD64)]"
  },
  "orig_nbformat": 4,
  "vscode": {
   "interpreter": {
    "hash": "ed2bd8afe35ac8e04e3273705dfa5202dc0c9a433ef2582b988ed304bea5c5f7"
   }
  }
 },
 "nbformat": 4,
 "nbformat_minor": 2
}
